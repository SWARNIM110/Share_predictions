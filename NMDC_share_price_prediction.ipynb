{
 "cells": [
  {
   "cell_type": "code",
   "execution_count": 1,
   "metadata": {},
   "outputs": [],
   "source": [
    "# !pip install prophet"
   ]
  },
  {
   "cell_type": "code",
   "execution_count": 2,
   "metadata": {
    "executionInfo": {
     "elapsed": 918,
     "status": "ok",
     "timestamp": 1696542771511,
     "user": {
      "displayName": "Swarnim Mishra",
      "userId": "17458873270615504722"
     },
     "user_tz": -330
    },
    "id": "zY2MyqVzz8-L"
   },
   "outputs": [],
   "source": [
    "import numpy as np\n",
    "import pandas as pd\n",
    "import matplotlib.pyplot as plt\n",
    "import seaborn as sns\n",
    "import warnings\n",
    "warnings.filterwarnings('ignore')\n",
    "import prophet\n",
    "from prophet import Prophet"
   ]
  },
  {
   "cell_type": "code",
   "execution_count": 3,
   "metadata": {
    "executionInfo": {
     "elapsed": 552,
     "status": "ok",
     "timestamp": 1696542772449,
     "user": {
      "displayName": "Swarnim Mishra",
      "userId": "17458873270615504722"
     },
     "user_tz": -330
    },
    "id": "48Lhzevw0iqy"
   },
   "outputs": [],
   "source": [
    "df = pd.read_csv('NMDC.NS.csv')"
   ]
  },
  {
   "cell_type": "code",
   "execution_count": 4,
   "metadata": {
    "colab": {
     "base_uri": "https://localhost:8080/",
     "height": 206
    },
    "executionInfo": {
     "elapsed": 13,
     "status": "ok",
     "timestamp": 1696542772450,
     "user": {
      "displayName": "Swarnim Mishra",
      "userId": "17458873270615504722"
     },
     "user_tz": -330
    },
    "id": "-iY_mHOj0pkd",
    "outputId": "f1a97bef-73dd-4351-c5c4-329e169448c4"
   },
   "outputs": [
    {
     "data": {
      "text/html": [
       "<div>\n",
       "<style scoped>\n",
       "    .dataframe tbody tr th:only-of-type {\n",
       "        vertical-align: middle;\n",
       "    }\n",
       "\n",
       "    .dataframe tbody tr th {\n",
       "        vertical-align: top;\n",
       "    }\n",
       "\n",
       "    .dataframe thead th {\n",
       "        text-align: right;\n",
       "    }\n",
       "</style>\n",
       "<table border=\"1\" class=\"dataframe\">\n",
       "  <thead>\n",
       "    <tr style=\"text-align: right;\">\n",
       "      <th></th>\n",
       "      <th>Date</th>\n",
       "      <th>Open</th>\n",
       "      <th>High</th>\n",
       "      <th>Low</th>\n",
       "      <th>Close</th>\n",
       "      <th>Adj Close</th>\n",
       "      <th>Volume</th>\n",
       "    </tr>\n",
       "  </thead>\n",
       "  <tbody>\n",
       "    <tr>\n",
       "      <th>0</th>\n",
       "      <td>2021-10-06</td>\n",
       "      <td>147.500000</td>\n",
       "      <td>148.850006</td>\n",
       "      <td>142.800003</td>\n",
       "      <td>143.350006</td>\n",
       "      <td>122.500183</td>\n",
       "      <td>10206727</td>\n",
       "    </tr>\n",
       "    <tr>\n",
       "      <th>1</th>\n",
       "      <td>2021-10-07</td>\n",
       "      <td>144.850006</td>\n",
       "      <td>146.149994</td>\n",
       "      <td>143.449997</td>\n",
       "      <td>144.350006</td>\n",
       "      <td>123.354729</td>\n",
       "      <td>7219473</td>\n",
       "    </tr>\n",
       "    <tr>\n",
       "      <th>2</th>\n",
       "      <td>2021-10-08</td>\n",
       "      <td>145.449997</td>\n",
       "      <td>149.050003</td>\n",
       "      <td>144.350006</td>\n",
       "      <td>145.600006</td>\n",
       "      <td>124.422935</td>\n",
       "      <td>9488844</td>\n",
       "    </tr>\n",
       "    <tr>\n",
       "      <th>3</th>\n",
       "      <td>2021-10-11</td>\n",
       "      <td>146.399994</td>\n",
       "      <td>154.000000</td>\n",
       "      <td>146.000000</td>\n",
       "      <td>153.050003</td>\n",
       "      <td>130.789352</td>\n",
       "      <td>27537045</td>\n",
       "    </tr>\n",
       "    <tr>\n",
       "      <th>4</th>\n",
       "      <td>2021-10-12</td>\n",
       "      <td>154.800003</td>\n",
       "      <td>154.800003</td>\n",
       "      <td>149.300003</td>\n",
       "      <td>151.600006</td>\n",
       "      <td>129.550247</td>\n",
       "      <td>17011149</td>\n",
       "    </tr>\n",
       "  </tbody>\n",
       "</table>\n",
       "</div>"
      ],
      "text/plain": [
       "         Date        Open        High         Low       Close   Adj Close  \\\n",
       "0  2021-10-06  147.500000  148.850006  142.800003  143.350006  122.500183   \n",
       "1  2021-10-07  144.850006  146.149994  143.449997  144.350006  123.354729   \n",
       "2  2021-10-08  145.449997  149.050003  144.350006  145.600006  124.422935   \n",
       "3  2021-10-11  146.399994  154.000000  146.000000  153.050003  130.789352   \n",
       "4  2021-10-12  154.800003  154.800003  149.300003  151.600006  129.550247   \n",
       "\n",
       "     Volume  \n",
       "0  10206727  \n",
       "1   7219473  \n",
       "2   9488844  \n",
       "3  27537045  \n",
       "4  17011149  "
      ]
     },
     "execution_count": 4,
     "metadata": {},
     "output_type": "execute_result"
    }
   ],
   "source": [
    "df.head()"
   ]
  },
  {
   "cell_type": "code",
   "execution_count": 5,
   "metadata": {
    "colab": {
     "base_uri": "https://localhost:8080/"
    },
    "executionInfo": {
     "elapsed": 11,
     "status": "ok",
     "timestamp": 1696542772450,
     "user": {
      "displayName": "Swarnim Mishra",
      "userId": "17458873270615504722"
     },
     "user_tz": -330
    },
    "id": "-xQIJYxG0qgD",
    "outputId": "63418cac-1d71-41bf-b24d-9932c161b418"
   },
   "outputs": [
    {
     "name": "stdout",
     "output_type": "stream",
     "text": [
      "<class 'pandas.core.frame.DataFrame'>\n",
      "RangeIndex: 496 entries, 0 to 495\n",
      "Data columns (total 7 columns):\n",
      " #   Column     Non-Null Count  Dtype  \n",
      "---  ------     --------------  -----  \n",
      " 0   Date       496 non-null    object \n",
      " 1   Open       496 non-null    float64\n",
      " 2   High       496 non-null    float64\n",
      " 3   Low        496 non-null    float64\n",
      " 4   Close      496 non-null    float64\n",
      " 5   Adj Close  496 non-null    float64\n",
      " 6   Volume     496 non-null    int64  \n",
      "dtypes: float64(5), int64(1), object(1)\n",
      "memory usage: 27.2+ KB\n"
     ]
    }
   ],
   "source": [
    "df.info()"
   ]
  },
  {
   "cell_type": "code",
   "execution_count": 6,
   "metadata": {
    "executionInfo": {
     "elapsed": 8,
     "status": "ok",
     "timestamp": 1696542772451,
     "user": {
      "displayName": "Swarnim Mishra",
      "userId": "17458873270615504722"
     },
     "user_tz": -330
    },
    "id": "5-Zy2knc0tyS"
   },
   "outputs": [],
   "source": [
    "df['Date'] = pd.to_datetime(df['Date'])"
   ]
  },
  {
   "cell_type": "code",
   "execution_count": 7,
   "metadata": {
    "executionInfo": {
     "elapsed": 5,
     "status": "ok",
     "timestamp": 1696542906857,
     "user": {
      "displayName": "Swarnim Mishra",
      "userId": "17458873270615504722"
     },
     "user_tz": -330
    },
    "id": "0t3vgbVQ05cj"
   },
   "outputs": [],
   "source": [
    "# Creating Dataset for date and open values(The required ones)\n",
    "\n",
    "dataset = df[['Date','Open']]"
   ]
  },
  {
   "cell_type": "code",
   "execution_count": 28,
   "metadata": {
    "colab": {
     "base_uri": "https://localhost:8080/",
     "height": 206
    },
    "executionInfo": {
     "elapsed": 11,
     "status": "ok",
     "timestamp": 1696542907671,
     "user": {
      "displayName": "Swarnim Mishra",
      "userId": "17458873270615504722"
     },
     "user_tz": -330
    },
    "id": "jGvsoclv1RET",
    "outputId": "a4f51161-e800-4f57-89e5-f4c6698d0140"
   },
   "outputs": [
    {
     "data": {
      "text/html": [
       "<div>\n",
       "<style scoped>\n",
       "    .dataframe tbody tr th:only-of-type {\n",
       "        vertical-align: middle;\n",
       "    }\n",
       "\n",
       "    .dataframe tbody tr th {\n",
       "        vertical-align: top;\n",
       "    }\n",
       "\n",
       "    .dataframe thead th {\n",
       "        text-align: right;\n",
       "    }\n",
       "</style>\n",
       "<table border=\"1\" class=\"dataframe\">\n",
       "  <thead>\n",
       "    <tr style=\"text-align: right;\">\n",
       "      <th></th>\n",
       "      <th>Date</th>\n",
       "      <th>Open</th>\n",
       "    </tr>\n",
       "  </thead>\n",
       "  <tbody>\n",
       "    <tr>\n",
       "      <th>491</th>\n",
       "      <td>2023-09-28</td>\n",
       "      <td>142.949997</td>\n",
       "    </tr>\n",
       "    <tr>\n",
       "      <th>492</th>\n",
       "      <td>2023-09-29</td>\n",
       "      <td>143.350006</td>\n",
       "    </tr>\n",
       "    <tr>\n",
       "      <th>493</th>\n",
       "      <td>2023-10-03</td>\n",
       "      <td>149.600006</td>\n",
       "    </tr>\n",
       "    <tr>\n",
       "      <th>494</th>\n",
       "      <td>2023-10-04</td>\n",
       "      <td>148.000000</td>\n",
       "    </tr>\n",
       "    <tr>\n",
       "      <th>495</th>\n",
       "      <td>2023-10-05</td>\n",
       "      <td>146.899994</td>\n",
       "    </tr>\n",
       "  </tbody>\n",
       "</table>\n",
       "</div>"
      ],
      "text/plain": [
       "          Date        Open\n",
       "491 2023-09-28  142.949997\n",
       "492 2023-09-29  143.350006\n",
       "493 2023-10-03  149.600006\n",
       "494 2023-10-04  148.000000\n",
       "495 2023-10-05  146.899994"
      ]
     },
     "execution_count": 28,
     "metadata": {},
     "output_type": "execute_result"
    }
   ],
   "source": [
    "dataset.tail()"
   ]
  },
  {
   "cell_type": "code",
   "execution_count": 9,
   "metadata": {
    "executionInfo": {
     "elapsed": 3,
     "status": "ok",
     "timestamp": 1696542932653,
     "user": {
      "displayName": "Swarnim Mishra",
      "userId": "17458873270615504722"
     },
     "user_tz": -330
    },
    "id": "o7HHOye61UVa"
   },
   "outputs": [],
   "source": [
    "# Renaming the variables\n",
    "\n",
    "df_prophet = dataset.rename(columns = {'Date':'ds','Open':'y'})"
   ]
  },
  {
   "cell_type": "code",
   "execution_count": 10,
   "metadata": {
    "colab": {
     "base_uri": "https://localhost:8080/",
     "height": 206
    },
    "executionInfo": {
     "elapsed": 3,
     "status": "ok",
     "timestamp": 1696542941556,
     "user": {
      "displayName": "Swarnim Mishra",
      "userId": "17458873270615504722"
     },
     "user_tz": -330
    },
    "id": "r7RGOsEV1owN",
    "outputId": "0c848a8c-62fa-443f-f8fe-cfd97400b303"
   },
   "outputs": [
    {
     "data": {
      "text/html": [
       "<div>\n",
       "<style scoped>\n",
       "    .dataframe tbody tr th:only-of-type {\n",
       "        vertical-align: middle;\n",
       "    }\n",
       "\n",
       "    .dataframe tbody tr th {\n",
       "        vertical-align: top;\n",
       "    }\n",
       "\n",
       "    .dataframe thead th {\n",
       "        text-align: right;\n",
       "    }\n",
       "</style>\n",
       "<table border=\"1\" class=\"dataframe\">\n",
       "  <thead>\n",
       "    <tr style=\"text-align: right;\">\n",
       "      <th></th>\n",
       "      <th>ds</th>\n",
       "      <th>y</th>\n",
       "    </tr>\n",
       "  </thead>\n",
       "  <tbody>\n",
       "    <tr>\n",
       "      <th>0</th>\n",
       "      <td>2021-10-06</td>\n",
       "      <td>147.500000</td>\n",
       "    </tr>\n",
       "    <tr>\n",
       "      <th>1</th>\n",
       "      <td>2021-10-07</td>\n",
       "      <td>144.850006</td>\n",
       "    </tr>\n",
       "    <tr>\n",
       "      <th>2</th>\n",
       "      <td>2021-10-08</td>\n",
       "      <td>145.449997</td>\n",
       "    </tr>\n",
       "    <tr>\n",
       "      <th>3</th>\n",
       "      <td>2021-10-11</td>\n",
       "      <td>146.399994</td>\n",
       "    </tr>\n",
       "    <tr>\n",
       "      <th>4</th>\n",
       "      <td>2021-10-12</td>\n",
       "      <td>154.800003</td>\n",
       "    </tr>\n",
       "  </tbody>\n",
       "</table>\n",
       "</div>"
      ],
      "text/plain": [
       "          ds           y\n",
       "0 2021-10-06  147.500000\n",
       "1 2021-10-07  144.850006\n",
       "2 2021-10-08  145.449997\n",
       "3 2021-10-11  146.399994\n",
       "4 2021-10-12  154.800003"
      ]
     },
     "execution_count": 10,
     "metadata": {},
     "output_type": "execute_result"
    }
   ],
   "source": [
    "df_prophet.head()"
   ]
  },
  {
   "cell_type": "markdown",
   "metadata": {
    "id": "pa2XZBhi1zcX"
   },
   "source": [
    "### **Building model using Prophet**"
   ]
  },
  {
   "cell_type": "code",
   "execution_count": 11,
   "metadata": {
    "colab": {
     "base_uri": "https://localhost:8080/"
    },
    "executionInfo": {
     "elapsed": 719,
     "status": "ok",
     "timestamp": 1696543059928,
     "user": {
      "displayName": "Swarnim Mishra",
      "userId": "17458873270615504722"
     },
     "user_tz": -330
    },
    "id": "hNW3wI6a1tpk",
    "outputId": "f30cf4cf-7f05-4238-d827-810b535587c0"
   },
   "outputs": [
    {
     "name": "stderr",
     "output_type": "stream",
     "text": [
      "03:25:09 - cmdstanpy - INFO - Chain [1] start processing\n",
      "03:25:10 - cmdstanpy - INFO - Chain [1] done processing\n"
     ]
    }
   ],
   "source": [
    "from prophet import Prophet\n",
    "m = Prophet()\n",
    "model = m.fit(df_prophet)"
   ]
  },
  {
   "cell_type": "code",
   "execution_count": 12,
   "metadata": {
    "executionInfo": {
     "elapsed": 2,
     "status": "ok",
     "timestamp": 1696543086275,
     "user": {
      "displayName": "Swarnim Mishra",
      "userId": "17458873270615504722"
     },
     "user_tz": -330
    },
    "id": "8qkoQ9d_2HyZ"
   },
   "outputs": [],
   "source": [
    "# Checking the Seasonalities of model"
   ]
  },
  {
   "cell_type": "code",
   "execution_count": 13,
   "metadata": {
    "colab": {
     "base_uri": "https://localhost:8080/"
    },
    "executionInfo": {
     "elapsed": 415,
     "status": "ok",
     "timestamp": 1696543093072,
     "user": {
      "displayName": "Swarnim Mishra",
      "userId": "17458873270615504722"
     },
     "user_tz": -330
    },
    "id": "NeVGM5Bt2REE",
    "outputId": "f4ed6a1a-9a75-4c80-dc9f-157e8f080641"
   },
   "outputs": [
    {
     "data": {
      "text/plain": [
       "OrderedDict([('weekly',\n",
       "              {'period': 7,\n",
       "               'fourier_order': 3,\n",
       "               'prior_scale': 10.0,\n",
       "               'mode': 'additive',\n",
       "               'condition_name': None})])"
      ]
     },
     "execution_count": 13,
     "metadata": {},
     "output_type": "execute_result"
    }
   ],
   "source": [
    "model.seasonalities"
   ]
  },
  {
   "cell_type": "markdown",
   "metadata": {
    "id": "GI79gJe62hWz"
   },
   "source": [
    "**Predicting for next 6 months**"
   ]
  },
  {
   "cell_type": "code",
   "execution_count": 14,
   "metadata": {
    "executionInfo": {
     "elapsed": 375,
     "status": "ok",
     "timestamp": 1696543233362,
     "user": {
      "displayName": "Swarnim Mishra",
      "userId": "17458873270615504722"
     },
     "user_tz": -330
    },
    "id": "OAhHk8D12iTn"
   },
   "outputs": [],
   "source": [
    "future_date = model.make_future_dataframe(periods = 90 , freq ='D')"
   ]
  },
  {
   "cell_type": "code",
   "execution_count": 15,
   "metadata": {
    "colab": {
     "base_uri": "https://localhost:8080/",
     "height": 206
    },
    "executionInfo": {
     "elapsed": 4,
     "status": "ok",
     "timestamp": 1696543251309,
     "user": {
      "displayName": "Swarnim Mishra",
      "userId": "17458873270615504722"
     },
     "user_tz": -330
    },
    "id": "zd4N1OCv2Sl9",
    "outputId": "c46e1962-4765-48d9-e98e-c5d975329dd8"
   },
   "outputs": [
    {
     "data": {
      "text/html": [
       "<div>\n",
       "<style scoped>\n",
       "    .dataframe tbody tr th:only-of-type {\n",
       "        vertical-align: middle;\n",
       "    }\n",
       "\n",
       "    .dataframe tbody tr th {\n",
       "        vertical-align: top;\n",
       "    }\n",
       "\n",
       "    .dataframe thead th {\n",
       "        text-align: right;\n",
       "    }\n",
       "</style>\n",
       "<table border=\"1\" class=\"dataframe\">\n",
       "  <thead>\n",
       "    <tr style=\"text-align: right;\">\n",
       "      <th></th>\n",
       "      <th>ds</th>\n",
       "    </tr>\n",
       "  </thead>\n",
       "  <tbody>\n",
       "    <tr>\n",
       "      <th>581</th>\n",
       "      <td>2023-12-30</td>\n",
       "    </tr>\n",
       "    <tr>\n",
       "      <th>582</th>\n",
       "      <td>2023-12-31</td>\n",
       "    </tr>\n",
       "    <tr>\n",
       "      <th>583</th>\n",
       "      <td>2024-01-01</td>\n",
       "    </tr>\n",
       "    <tr>\n",
       "      <th>584</th>\n",
       "      <td>2024-01-02</td>\n",
       "    </tr>\n",
       "    <tr>\n",
       "      <th>585</th>\n",
       "      <td>2024-01-03</td>\n",
       "    </tr>\n",
       "  </tbody>\n",
       "</table>\n",
       "</div>"
      ],
      "text/plain": [
       "            ds\n",
       "581 2023-12-30\n",
       "582 2023-12-31\n",
       "583 2024-01-01\n",
       "584 2024-01-02\n",
       "585 2024-01-03"
      ]
     },
     "execution_count": 15,
     "metadata": {},
     "output_type": "execute_result"
    }
   ],
   "source": [
    "future_date.tail()"
   ]
  },
  {
   "cell_type": "markdown",
   "metadata": {
    "id": "_yHF_m963Abh"
   },
   "source": [
    "### **# Making the prediction**"
   ]
  },
  {
   "cell_type": "code",
   "execution_count": 16,
   "metadata": {
    "executionInfo": {
     "elapsed": 6,
     "status": "ok",
     "timestamp": 1696543317163,
     "user": {
      "displayName": "Swarnim Mishra",
      "userId": "17458873270615504722"
     },
     "user_tz": -330
    },
    "id": "JrPsLqY323R4"
   },
   "outputs": [],
   "source": [
    "prediction = model.predict(future_date)"
   ]
  },
  {
   "cell_type": "code",
   "execution_count": 17,
   "metadata": {
    "colab": {
     "base_uri": "https://localhost:8080/",
     "height": 617
    },
    "executionInfo": {
     "elapsed": 10,
     "status": "ok",
     "timestamp": 1696543336322,
     "user": {
      "displayName": "Swarnim Mishra",
      "userId": "17458873270615504722"
     },
     "user_tz": -330
    },
    "id": "RyF7W3VY3JiT",
    "outputId": "6399f167-dc91-45e4-9b7c-45fb4aa3c5c6"
   },
   "outputs": [
    {
     "data": {
      "text/html": [
       "<div>\n",
       "<style scoped>\n",
       "    .dataframe tbody tr th:only-of-type {\n",
       "        vertical-align: middle;\n",
       "    }\n",
       "\n",
       "    .dataframe tbody tr th {\n",
       "        vertical-align: top;\n",
       "    }\n",
       "\n",
       "    .dataframe thead th {\n",
       "        text-align: right;\n",
       "    }\n",
       "</style>\n",
       "<table border=\"1\" class=\"dataframe\">\n",
       "  <thead>\n",
       "    <tr style=\"text-align: right;\">\n",
       "      <th></th>\n",
       "      <th>ds</th>\n",
       "      <th>trend</th>\n",
       "      <th>yhat_lower</th>\n",
       "      <th>yhat_upper</th>\n",
       "      <th>trend_lower</th>\n",
       "      <th>trend_upper</th>\n",
       "      <th>additive_terms</th>\n",
       "      <th>additive_terms_lower</th>\n",
       "      <th>additive_terms_upper</th>\n",
       "      <th>weekly</th>\n",
       "      <th>weekly_lower</th>\n",
       "      <th>weekly_upper</th>\n",
       "      <th>multiplicative_terms</th>\n",
       "      <th>multiplicative_terms_lower</th>\n",
       "      <th>multiplicative_terms_upper</th>\n",
       "      <th>yhat</th>\n",
       "    </tr>\n",
       "  </thead>\n",
       "  <tbody>\n",
       "    <tr>\n",
       "      <th>0</th>\n",
       "      <td>2021-10-06</td>\n",
       "      <td>141.706913</td>\n",
       "      <td>129.985273</td>\n",
       "      <td>151.912184</td>\n",
       "      <td>141.706913</td>\n",
       "      <td>141.706913</td>\n",
       "      <td>-0.809099</td>\n",
       "      <td>-0.809099</td>\n",
       "      <td>-0.809099</td>\n",
       "      <td>-0.809099</td>\n",
       "      <td>-0.809099</td>\n",
       "      <td>-0.809099</td>\n",
       "      <td>0.0</td>\n",
       "      <td>0.0</td>\n",
       "      <td>0.0</td>\n",
       "      <td>140.897814</td>\n",
       "    </tr>\n",
       "    <tr>\n",
       "      <th>1</th>\n",
       "      <td>2021-10-07</td>\n",
       "      <td>141.745176</td>\n",
       "      <td>129.562268</td>\n",
       "      <td>150.562677</td>\n",
       "      <td>141.745176</td>\n",
       "      <td>141.745176</td>\n",
       "      <td>-0.920843</td>\n",
       "      <td>-0.920843</td>\n",
       "      <td>-0.920843</td>\n",
       "      <td>-0.920843</td>\n",
       "      <td>-0.920843</td>\n",
       "      <td>-0.920843</td>\n",
       "      <td>0.0</td>\n",
       "      <td>0.0</td>\n",
       "      <td>0.0</td>\n",
       "      <td>140.824332</td>\n",
       "    </tr>\n",
       "    <tr>\n",
       "      <th>2</th>\n",
       "      <td>2021-10-08</td>\n",
       "      <td>141.783438</td>\n",
       "      <td>129.380644</td>\n",
       "      <td>151.693458</td>\n",
       "      <td>141.783438</td>\n",
       "      <td>141.783438</td>\n",
       "      <td>-0.969360</td>\n",
       "      <td>-0.969360</td>\n",
       "      <td>-0.969360</td>\n",
       "      <td>-0.969360</td>\n",
       "      <td>-0.969360</td>\n",
       "      <td>-0.969360</td>\n",
       "      <td>0.0</td>\n",
       "      <td>0.0</td>\n",
       "      <td>0.0</td>\n",
       "      <td>140.814078</td>\n",
       "    </tr>\n",
       "    <tr>\n",
       "      <th>3</th>\n",
       "      <td>2021-10-11</td>\n",
       "      <td>141.898226</td>\n",
       "      <td>130.343826</td>\n",
       "      <td>151.486377</td>\n",
       "      <td>141.898226</td>\n",
       "      <td>141.898226</td>\n",
       "      <td>-0.926336</td>\n",
       "      <td>-0.926336</td>\n",
       "      <td>-0.926336</td>\n",
       "      <td>-0.926336</td>\n",
       "      <td>-0.926336</td>\n",
       "      <td>-0.926336</td>\n",
       "      <td>0.0</td>\n",
       "      <td>0.0</td>\n",
       "      <td>0.0</td>\n",
       "      <td>140.971890</td>\n",
       "    </tr>\n",
       "    <tr>\n",
       "      <th>4</th>\n",
       "      <td>2021-10-12</td>\n",
       "      <td>141.936489</td>\n",
       "      <td>131.021372</td>\n",
       "      <td>151.969577</td>\n",
       "      <td>141.936489</td>\n",
       "      <td>141.936489</td>\n",
       "      <td>-0.684627</td>\n",
       "      <td>-0.684627</td>\n",
       "      <td>-0.684627</td>\n",
       "      <td>-0.684627</td>\n",
       "      <td>-0.684627</td>\n",
       "      <td>-0.684627</td>\n",
       "      <td>0.0</td>\n",
       "      <td>0.0</td>\n",
       "      <td>0.0</td>\n",
       "      <td>141.251862</td>\n",
       "    </tr>\n",
       "    <tr>\n",
       "      <th>...</th>\n",
       "      <td>...</td>\n",
       "      <td>...</td>\n",
       "      <td>...</td>\n",
       "      <td>...</td>\n",
       "      <td>...</td>\n",
       "      <td>...</td>\n",
       "      <td>...</td>\n",
       "      <td>...</td>\n",
       "      <td>...</td>\n",
       "      <td>...</td>\n",
       "      <td>...</td>\n",
       "      <td>...</td>\n",
       "      <td>...</td>\n",
       "      <td>...</td>\n",
       "      <td>...</td>\n",
       "      <td>...</td>\n",
       "    </tr>\n",
       "    <tr>\n",
       "      <th>581</th>\n",
       "      <td>2023-12-30</td>\n",
       "      <td>152.661016</td>\n",
       "      <td>140.848070</td>\n",
       "      <td>167.957141</td>\n",
       "      <td>142.880625</td>\n",
       "      <td>160.267093</td>\n",
       "      <td>2.155133</td>\n",
       "      <td>2.155133</td>\n",
       "      <td>2.155133</td>\n",
       "      <td>2.155133</td>\n",
       "      <td>2.155133</td>\n",
       "      <td>2.155133</td>\n",
       "      <td>0.0</td>\n",
       "      <td>0.0</td>\n",
       "      <td>0.0</td>\n",
       "      <td>154.816149</td>\n",
       "    </tr>\n",
       "    <tr>\n",
       "      <th>582</th>\n",
       "      <td>2023-12-31</td>\n",
       "      <td>152.860212</td>\n",
       "      <td>140.202464</td>\n",
       "      <td>168.177159</td>\n",
       "      <td>142.809471</td>\n",
       "      <td>160.577965</td>\n",
       "      <td>2.155133</td>\n",
       "      <td>2.155133</td>\n",
       "      <td>2.155133</td>\n",
       "      <td>2.155133</td>\n",
       "      <td>2.155133</td>\n",
       "      <td>2.155133</td>\n",
       "      <td>0.0</td>\n",
       "      <td>0.0</td>\n",
       "      <td>0.0</td>\n",
       "      <td>155.015345</td>\n",
       "    </tr>\n",
       "    <tr>\n",
       "      <th>583</th>\n",
       "      <td>2024-01-01</td>\n",
       "      <td>153.059409</td>\n",
       "      <td>136.666265</td>\n",
       "      <td>165.471620</td>\n",
       "      <td>142.705667</td>\n",
       "      <td>160.851348</td>\n",
       "      <td>-0.926336</td>\n",
       "      <td>-0.926336</td>\n",
       "      <td>-0.926336</td>\n",
       "      <td>-0.926336</td>\n",
       "      <td>-0.926336</td>\n",
       "      <td>-0.926336</td>\n",
       "      <td>0.0</td>\n",
       "      <td>0.0</td>\n",
       "      <td>0.0</td>\n",
       "      <td>152.133073</td>\n",
       "    </tr>\n",
       "    <tr>\n",
       "      <th>584</th>\n",
       "      <td>2024-01-02</td>\n",
       "      <td>153.258605</td>\n",
       "      <td>137.703797</td>\n",
       "      <td>165.829651</td>\n",
       "      <td>142.726663</td>\n",
       "      <td>161.106648</td>\n",
       "      <td>-0.684627</td>\n",
       "      <td>-0.684627</td>\n",
       "      <td>-0.684627</td>\n",
       "      <td>-0.684627</td>\n",
       "      <td>-0.684627</td>\n",
       "      <td>-0.684627</td>\n",
       "      <td>0.0</td>\n",
       "      <td>0.0</td>\n",
       "      <td>0.0</td>\n",
       "      <td>152.573978</td>\n",
       "    </tr>\n",
       "    <tr>\n",
       "      <th>585</th>\n",
       "      <td>2024-01-03</td>\n",
       "      <td>153.457802</td>\n",
       "      <td>137.777920</td>\n",
       "      <td>166.593212</td>\n",
       "      <td>142.804590</td>\n",
       "      <td>161.436283</td>\n",
       "      <td>-0.809099</td>\n",
       "      <td>-0.809099</td>\n",
       "      <td>-0.809099</td>\n",
       "      <td>-0.809099</td>\n",
       "      <td>-0.809099</td>\n",
       "      <td>-0.809099</td>\n",
       "      <td>0.0</td>\n",
       "      <td>0.0</td>\n",
       "      <td>0.0</td>\n",
       "      <td>152.648702</td>\n",
       "    </tr>\n",
       "  </tbody>\n",
       "</table>\n",
       "<p>586 rows × 16 columns</p>\n",
       "</div>"
      ],
      "text/plain": [
       "            ds       trend  yhat_lower  yhat_upper  trend_lower  trend_upper  \\\n",
       "0   2021-10-06  141.706913  129.985273  151.912184   141.706913   141.706913   \n",
       "1   2021-10-07  141.745176  129.562268  150.562677   141.745176   141.745176   \n",
       "2   2021-10-08  141.783438  129.380644  151.693458   141.783438   141.783438   \n",
       "3   2021-10-11  141.898226  130.343826  151.486377   141.898226   141.898226   \n",
       "4   2021-10-12  141.936489  131.021372  151.969577   141.936489   141.936489   \n",
       "..         ...         ...         ...         ...          ...          ...   \n",
       "581 2023-12-30  152.661016  140.848070  167.957141   142.880625   160.267093   \n",
       "582 2023-12-31  152.860212  140.202464  168.177159   142.809471   160.577965   \n",
       "583 2024-01-01  153.059409  136.666265  165.471620   142.705667   160.851348   \n",
       "584 2024-01-02  153.258605  137.703797  165.829651   142.726663   161.106648   \n",
       "585 2024-01-03  153.457802  137.777920  166.593212   142.804590   161.436283   \n",
       "\n",
       "     additive_terms  additive_terms_lower  additive_terms_upper    weekly  \\\n",
       "0         -0.809099             -0.809099             -0.809099 -0.809099   \n",
       "1         -0.920843             -0.920843             -0.920843 -0.920843   \n",
       "2         -0.969360             -0.969360             -0.969360 -0.969360   \n",
       "3         -0.926336             -0.926336             -0.926336 -0.926336   \n",
       "4         -0.684627             -0.684627             -0.684627 -0.684627   \n",
       "..              ...                   ...                   ...       ...   \n",
       "581        2.155133              2.155133              2.155133  2.155133   \n",
       "582        2.155133              2.155133              2.155133  2.155133   \n",
       "583       -0.926336             -0.926336             -0.926336 -0.926336   \n",
       "584       -0.684627             -0.684627             -0.684627 -0.684627   \n",
       "585       -0.809099             -0.809099             -0.809099 -0.809099   \n",
       "\n",
       "     weekly_lower  weekly_upper  multiplicative_terms  \\\n",
       "0       -0.809099     -0.809099                   0.0   \n",
       "1       -0.920843     -0.920843                   0.0   \n",
       "2       -0.969360     -0.969360                   0.0   \n",
       "3       -0.926336     -0.926336                   0.0   \n",
       "4       -0.684627     -0.684627                   0.0   \n",
       "..            ...           ...                   ...   \n",
       "581      2.155133      2.155133                   0.0   \n",
       "582      2.155133      2.155133                   0.0   \n",
       "583     -0.926336     -0.926336                   0.0   \n",
       "584     -0.684627     -0.684627                   0.0   \n",
       "585     -0.809099     -0.809099                   0.0   \n",
       "\n",
       "     multiplicative_terms_lower  multiplicative_terms_upper        yhat  \n",
       "0                           0.0                         0.0  140.897814  \n",
       "1                           0.0                         0.0  140.824332  \n",
       "2                           0.0                         0.0  140.814078  \n",
       "3                           0.0                         0.0  140.971890  \n",
       "4                           0.0                         0.0  141.251862  \n",
       "..                          ...                         ...         ...  \n",
       "581                         0.0                         0.0  154.816149  \n",
       "582                         0.0                         0.0  155.015345  \n",
       "583                         0.0                         0.0  152.133073  \n",
       "584                         0.0                         0.0  152.573978  \n",
       "585                         0.0                         0.0  152.648702  \n",
       "\n",
       "[586 rows x 16 columns]"
      ]
     },
     "execution_count": 17,
     "metadata": {},
     "output_type": "execute_result"
    }
   ],
   "source": [
    "prediction"
   ]
  },
  {
   "cell_type": "code",
   "execution_count": 18,
   "metadata": {
    "colab": {
     "base_uri": "https://localhost:8080/"
    },
    "executionInfo": {
     "elapsed": 4,
     "status": "ok",
     "timestamp": 1696543368773,
     "user": {
      "displayName": "Swarnim Mishra",
      "userId": "17458873270615504722"
     },
     "user_tz": -330
    },
    "id": "MF6YnE_w3M_I",
    "outputId": "c0e88dc4-2f8b-486d-e743-c0e7e6941884"
   },
   "outputs": [
    {
     "data": {
      "text/plain": [
       "(496, 7)"
      ]
     },
     "execution_count": 18,
     "metadata": {},
     "output_type": "execute_result"
    }
   ],
   "source": [
    "df.shape"
   ]
  },
  {
   "cell_type": "code",
   "execution_count": 19,
   "metadata": {
    "colab": {
     "base_uri": "https://localhost:8080/"
    },
    "executionInfo": {
     "elapsed": 3,
     "status": "ok",
     "timestamp": 1696543378189,
     "user": {
      "displayName": "Swarnim Mishra",
      "userId": "17458873270615504722"
     },
     "user_tz": -330
    },
    "id": "ayN6yhdK3V7v",
    "outputId": "6d4ac284-6417-4003-d569-e46314c76ee9"
   },
   "outputs": [
    {
     "data": {
      "text/plain": [
       "(586, 1)"
      ]
     },
     "execution_count": 19,
     "metadata": {},
     "output_type": "execute_result"
    }
   ],
   "source": [
    "future_date.shape"
   ]
  },
  {
   "cell_type": "code",
   "execution_count": null,
   "metadata": {
    "executionInfo": {
     "elapsed": 5,
     "status": "ok",
     "timestamp": 1696543402379,
     "user": {
      "displayName": "Swarnim Mishra",
      "userId": "17458873270615504722"
     },
     "user_tz": -330
    },
    "id": "ipvcVehd3Ybj"
   },
   "outputs": [],
   "source": []
  },
  {
   "cell_type": "code",
   "execution_count": 20,
   "metadata": {
    "colab": {
     "base_uri": "https://localhost:8080/",
     "height": 423
    },
    "executionInfo": {
     "elapsed": 639,
     "status": "ok",
     "timestamp": 1696543483437,
     "user": {
      "displayName": "Swarnim Mishra",
      "userId": "17458873270615504722"
     },
     "user_tz": -330
    },
    "id": "Ba037cHn3a5q",
    "outputId": "693b63fa-dbfc-4c97-ab39-0fc7a4370b55"
   },
   "outputs": [
    {
     "data": {
      "text/html": [
       "<div>\n",
       "<style scoped>\n",
       "    .dataframe tbody tr th:only-of-type {\n",
       "        vertical-align: middle;\n",
       "    }\n",
       "\n",
       "    .dataframe tbody tr th {\n",
       "        vertical-align: top;\n",
       "    }\n",
       "\n",
       "    .dataframe thead th {\n",
       "        text-align: right;\n",
       "    }\n",
       "</style>\n",
       "<table border=\"1\" class=\"dataframe\">\n",
       "  <thead>\n",
       "    <tr style=\"text-align: right;\">\n",
       "      <th></th>\n",
       "      <th>ds</th>\n",
       "      <th>yhat_lower</th>\n",
       "      <th>yhat_upper</th>\n",
       "      <th>yhat</th>\n",
       "    </tr>\n",
       "  </thead>\n",
       "  <tbody>\n",
       "    <tr>\n",
       "      <th>496</th>\n",
       "      <td>2023-10-06</td>\n",
       "      <td>124.259063</td>\n",
       "      <td>144.926817</td>\n",
       "      <td>134.759962</td>\n",
       "    </tr>\n",
       "    <tr>\n",
       "      <th>497</th>\n",
       "      <td>2023-10-07</td>\n",
       "      <td>128.131848</td>\n",
       "      <td>148.833869</td>\n",
       "      <td>138.083652</td>\n",
       "    </tr>\n",
       "    <tr>\n",
       "      <th>498</th>\n",
       "      <td>2023-10-08</td>\n",
       "      <td>127.563761</td>\n",
       "      <td>149.735112</td>\n",
       "      <td>138.282848</td>\n",
       "    </tr>\n",
       "    <tr>\n",
       "      <th>499</th>\n",
       "      <td>2023-10-09</td>\n",
       "      <td>124.737478</td>\n",
       "      <td>146.150367</td>\n",
       "      <td>135.400576</td>\n",
       "    </tr>\n",
       "    <tr>\n",
       "      <th>500</th>\n",
       "      <td>2023-10-10</td>\n",
       "      <td>124.792097</td>\n",
       "      <td>146.182624</td>\n",
       "      <td>135.841481</td>\n",
       "    </tr>\n",
       "    <tr>\n",
       "      <th>...</th>\n",
       "      <td>...</td>\n",
       "      <td>...</td>\n",
       "      <td>...</td>\n",
       "      <td>...</td>\n",
       "    </tr>\n",
       "    <tr>\n",
       "      <th>581</th>\n",
       "      <td>2023-12-30</td>\n",
       "      <td>140.848070</td>\n",
       "      <td>167.957141</td>\n",
       "      <td>154.816149</td>\n",
       "    </tr>\n",
       "    <tr>\n",
       "      <th>582</th>\n",
       "      <td>2023-12-31</td>\n",
       "      <td>140.202464</td>\n",
       "      <td>168.177159</td>\n",
       "      <td>155.015345</td>\n",
       "    </tr>\n",
       "    <tr>\n",
       "      <th>583</th>\n",
       "      <td>2024-01-01</td>\n",
       "      <td>136.666265</td>\n",
       "      <td>165.471620</td>\n",
       "      <td>152.133073</td>\n",
       "    </tr>\n",
       "    <tr>\n",
       "      <th>584</th>\n",
       "      <td>2024-01-02</td>\n",
       "      <td>137.703797</td>\n",
       "      <td>165.829651</td>\n",
       "      <td>152.573978</td>\n",
       "    </tr>\n",
       "    <tr>\n",
       "      <th>585</th>\n",
       "      <td>2024-01-03</td>\n",
       "      <td>137.777920</td>\n",
       "      <td>166.593212</td>\n",
       "      <td>152.648702</td>\n",
       "    </tr>\n",
       "  </tbody>\n",
       "</table>\n",
       "<p>90 rows × 4 columns</p>\n",
       "</div>"
      ],
      "text/plain": [
       "            ds  yhat_lower  yhat_upper        yhat\n",
       "496 2023-10-06  124.259063  144.926817  134.759962\n",
       "497 2023-10-07  128.131848  148.833869  138.083652\n",
       "498 2023-10-08  127.563761  149.735112  138.282848\n",
       "499 2023-10-09  124.737478  146.150367  135.400576\n",
       "500 2023-10-10  124.792097  146.182624  135.841481\n",
       "..         ...         ...         ...         ...\n",
       "581 2023-12-30  140.848070  167.957141  154.816149\n",
       "582 2023-12-31  140.202464  168.177159  155.015345\n",
       "583 2024-01-01  136.666265  165.471620  152.133073\n",
       "584 2024-01-02  137.703797  165.829651  152.573978\n",
       "585 2024-01-03  137.777920  166.593212  152.648702\n",
       "\n",
       "[90 rows x 4 columns]"
      ]
     },
     "execution_count": 20,
     "metadata": {},
     "output_type": "execute_result"
    }
   ],
   "source": [
    "prediction[['ds','yhat_lower','yhat_upper','yhat']].tail(90)"
   ]
  },
  {
   "cell_type": "markdown",
   "metadata": {},
   "source": [
    "###### yhat is the predicted value for the 'open' column's values where as yhat_lower and yhat_upper is the range of predictions"
   ]
  },
  {
   "cell_type": "markdown",
   "metadata": {
    "id": "zJlzOaoX4usF"
   },
   "source": [
    "### Plotting the model"
   ]
  },
  {
   "cell_type": "code",
   "execution_count": 21,
   "metadata": {
    "colab": {
     "base_uri": "https://localhost:8080/",
     "height": 607
    },
    "executionInfo": {
     "elapsed": 1010,
     "status": "ok",
     "timestamp": 1696543783584,
     "user": {
      "displayName": "Swarnim Mishra",
      "userId": "17458873270615504722"
     },
     "user_tz": -330
    },
    "id": "9x5yIGge3yD4",
    "outputId": "fb10d951-d948-4fde-d255-8fbb92cf4e7b"
   },
   "outputs": [
    {
     "data": {
      "image/png": "[encoded data removed]",
      "text/plain": [
       "<Figure size 1000x600 with 1 Axes>"
      ]
     },
     "metadata": {},
     "output_type": "display_data"
    }
   ],
   "source": [
    "model.plot(prediction)\n",
    "plt.show()"
   ]
  },
  {
   "cell_type": "code",
   "execution_count": 22,
   "metadata": {
    "colab": {
     "base_uri": "https://localhost:8080/",
     "height": 607
    },
    "executionInfo": {
     "elapsed": 847,
     "status": "ok",
     "timestamp": 1696543846155,
     "user": {
      "displayName": "Swarnim Mishra",
      "userId": "17458873270615504722"
     },
     "user_tz": -330
    },
    "id": "Q7MUDrhi45vr",
    "outputId": "fb444ca2-6c92-4940-8175-6691d539d604"
   },
   "outputs": [
    {
     "data": {
      "image/png": "[encoded data removed]",
      "text/plain": [
       "<Figure size 900x600 with 2 Axes>"
      ]
     },
     "metadata": {},
     "output_type": "display_data"
    }
   ],
   "source": [
    "# Plotting the components of prediction to check the trend and seasonality\n",
    "model.plot_components(prediction)\n",
    "plt.show()"
   ]
  },
  {
   "cell_type": "code",
   "execution_count": null,
   "metadata": {},
   "outputs": [],
   "source": []
  },
  {
   "cell_type": "markdown",
   "metadata": {
    "id": "RWChvugo5UAF"
   },
   "source": [
    "**Cross Validating the model with the initial training period as 45days with a forecast horizon of 10days for a rolling evaluation period of 5days**"
   ]
  },
  {
   "cell_type": "code",
   "execution_count": 23,
   "metadata": {
    "colab": {
     "base_uri": "https://localhost:8080/",
     "height": 1000,
     "referenced_widgets": [
      "d7b23ac26dd9423d926ac316291fb3fb",
      "a25bc594cdf443918db3ef43967e2e00",
      "061ac603f3a047c58a771c1a4119f6ec",
      "97ef0fe84de748d196e95ce8969026d0",
      "b1d389feb6064a4392ffa8df435efb28",
      "db22de35a3744154b929694fc5e4b117",
      "540ede7f66734292af2c6c7c0d3712ad",
      "b374dd16237f45728ab1792317a845bc",
      "8b7f2e78be064c43a208b48caad38c8e",
      "9439b9df140647db87f7787991f133a1",
      "c931f2d802144497b638442fddeecf79"
     ]
    },
    "executionInfo": {
     "elapsed": 26325,
     "status": "ok",
     "timestamp": 1696544382232,
     "user": {
      "displayName": "Swarnim Mishra",
      "userId": "17458873270615504722"
     },
     "user_tz": -330
    },
    "id": "J_C7yAql5JPz",
    "outputId": "de26cc0b-bd77-409e-ab89-d5fce7288a7c"
   },
   "outputs": [
    {
     "data": {
      "application/vnd.jupyter.widget-view+json": {
       "model_id": "8548b45db7204548956cb8eb8e2c44f3",
       "version_major": 2,
       "version_minor": 0
      },
      "text/plain": [
       "  0%|          | 0/135 [00:00<?, ?it/s]"
      ]
     },
     "metadata": {},
     "output_type": "display_data"
    },
    {
     "name": "stderr",
     "output_type": "stream",
     "text": [
      "03:25:11 - cmdstanpy - INFO - Chain [1] start processing\n",
      "03:25:12 - cmdstanpy - INFO - Chain [1] done processing\n",
      "03:25:12 - cmdstanpy - INFO - Chain [1] start processing\n",
      "03:25:13 - cmdstanpy - INFO - Chain [1] done processing\n",
      "03:25:13 - cmdstanpy - INFO - Chain [1] start processing\n",
      "03:25:13 - cmdstanpy - INFO - Chain [1] done processing\n",
      "03:25:13 - cmdstanpy - INFO - Chain [1] start processing\n",
      "03:25:14 - cmdstanpy - INFO - Chain [1] done processing\n",
      "03:25:14 - cmdstanpy - INFO - Chain [1] start processing\n",
      "03:25:15 - cmdstanpy - INFO - Chain [1] done processing\n",
      "03:25:15 - cmdstanpy - INFO - Chain [1] start processing\n",
      "03:25:15 - cmdstanpy - INFO - Chain [1] done processing\n",
      "03:25:15 - cmdstanpy - INFO - Chain [1] start processing\n",
      "03:25:16 - cmdstanpy - INFO - Chain [1] done processing\n",
      "03:25:16 - cmdstanpy - INFO - Chain [1] start processing\n",
      "03:25:16 - cmdstanpy - INFO - Chain [1] done processing\n",
      "03:25:16 - cmdstanpy - INFO - Chain [1] start processing\n",
      "03:25:17 - cmdstanpy - INFO - Chain [1] done processing\n",
      "03:25:17 - cmdstanpy - INFO - Chain [1] start processing\n",
      "03:25:17 - cmdstanpy - INFO - Chain [1] done processing\n",
      "03:25:18 - cmdstanpy - INFO - Chain [1] start processing\n",
      "03:25:18 - cmdstanpy - INFO - Chain [1] done processing\n",
      "03:25:18 - cmdstanpy - INFO - Chain [1] start processing\n",
      "03:25:19 - cmdstanpy - INFO - Chain [1] done processing\n",
      "03:25:19 - cmdstanpy - INFO - Chain [1] start processing\n",
      "03:25:19 - cmdstanpy - INFO - Chain [1] done processing\n",
      "03:25:19 - cmdstanpy - INFO - Chain [1] start processing\n",
      "03:25:20 - cmdstanpy - INFO - Chain [1] done processing\n",
      "03:25:20 - cmdstanpy - INFO - Chain [1] start processing\n",
      "03:25:20 - cmdstanpy - INFO - Chain [1] done processing\n",
      "03:25:21 - cmdstanpy - INFO - Chain [1] start processing\n",
      "03:25:21 - cmdstanpy - INFO - Chain [1] done processing\n",
      "03:25:21 - cmdstanpy - INFO - Chain [1] start processing\n",
      "03:25:22 - cmdstanpy - INFO - Chain [1] done processing\n",
      "03:25:22 - cmdstanpy - INFO - Chain [1] start processing\n",
      "03:25:23 - cmdstanpy - INFO - Chain [1] done processing\n",
      "03:25:23 - cmdstanpy - INFO - Chain [1] start processing\n",
      "03:25:23 - cmdstanpy - INFO - Chain [1] done processing\n",
      "03:25:23 - cmdstanpy - INFO - Chain [1] start processing\n",
      "03:25:24 - cmdstanpy - INFO - Chain [1] done processing\n",
      "03:25:24 - cmdstanpy - INFO - Chain [1] start processing\n",
      "03:25:24 - cmdstanpy - INFO - Chain [1] done processing\n",
      "03:25:25 - cmdstanpy - INFO - Chain [1] start processing\n",
      "03:25:25 - cmdstanpy - INFO - Chain [1] done processing\n",
      "03:25:25 - cmdstanpy - INFO - Chain [1] start processing\n",
      "03:25:25 - cmdstanpy - INFO - Chain [1] done processing\n",
      "03:25:25 - cmdstanpy - INFO - Chain [1] start processing\n",
      "03:25:26 - cmdstanpy - INFO - Chain [1] done processing\n",
      "03:25:26 - cmdstanpy - INFO - Chain [1] start processing\n",
      "03:25:26 - cmdstanpy - INFO - Chain [1] done processing\n",
      "03:25:26 - cmdstanpy - INFO - Chain [1] start processing\n",
      "03:25:26 - cmdstanpy - INFO - Chain [1] done processing\n",
      "03:25:27 - cmdstanpy - INFO - Chain [1] start processing\n",
      "03:25:27 - cmdstanpy - INFO - Chain [1] done processing\n",
      "03:25:27 - cmdstanpy - INFO - Chain [1] start processing\n",
      "03:25:27 - cmdstanpy - INFO - Chain [1] done processing\n",
      "03:25:28 - cmdstanpy - INFO - Chain [1] start processing\n",
      "03:25:28 - cmdstanpy - INFO - Chain [1] done processing\n",
      "03:25:28 - cmdstanpy - INFO - Chain [1] start processing\n",
      "03:25:29 - cmdstanpy - INFO - Chain [1] done processing\n",
      "03:25:29 - cmdstanpy - INFO - Chain [1] start processing\n",
      "03:25:29 - cmdstanpy - INFO - Chain [1] done processing\n",
      "03:25:29 - cmdstanpy - INFO - Chain [1] start processing\n",
      "03:25:30 - cmdstanpy - INFO - Chain [1] done processing\n",
      "03:25:30 - cmdstanpy - INFO - Chain [1] start processing\n",
      "03:25:30 - cmdstanpy - INFO - Chain [1] done processing\n",
      "03:25:30 - cmdstanpy - INFO - Chain [1] start processing\n",
      "03:25:30 - cmdstanpy - INFO - Chain [1] done processing\n",
      "03:25:31 - cmdstanpy - INFO - Chain [1] start processing\n",
      "03:25:31 - cmdstanpy - INFO - Chain [1] done processing\n",
      "03:25:31 - cmdstanpy - INFO - Chain [1] start processing\n",
      "03:25:31 - cmdstanpy - INFO - Chain [1] done processing\n",
      "03:25:31 - cmdstanpy - INFO - Chain [1] start processing\n",
      "03:25:32 - cmdstanpy - INFO - Chain [1] done processing\n",
      "03:25:32 - cmdstanpy - INFO - Chain [1] start processing\n",
      "03:25:32 - cmdstanpy - INFO - Chain [1] done processing\n",
      "03:25:32 - cmdstanpy - INFO - Chain [1] start processing\n",
      "03:25:32 - cmdstanpy - INFO - Chain [1] done processing\n",
      "03:25:33 - cmdstanpy - INFO - Chain [1] start processing\n",
      "03:25:33 - cmdstanpy - INFO - Chain [1] done processing\n",
      "03:25:33 - cmdstanpy - INFO - Chain [1] start processing\n",
      "03:25:33 - cmdstanpy - INFO - Chain [1] done processing\n",
      "03:25:34 - cmdstanpy - INFO - Chain [1] start processing\n",
      "03:25:34 - cmdstanpy - INFO - Chain [1] done processing\n",
      "03:25:34 - cmdstanpy - INFO - Chain [1] start processing\n",
      "03:25:34 - cmdstanpy - INFO - Chain [1] done processing\n",
      "03:25:34 - cmdstanpy - INFO - Chain [1] start processing\n",
      "03:25:35 - cmdstanpy - INFO - Chain [1] done processing\n",
      "03:25:35 - cmdstanpy - INFO - Chain [1] start processing\n",
      "03:25:35 - cmdstanpy - INFO - Chain [1] done processing\n",
      "03:25:35 - cmdstanpy - INFO - Chain [1] start processing\n",
      "03:25:35 - cmdstanpy - INFO - Chain [1] done processing\n",
      "03:25:35 - cmdstanpy - INFO - Chain [1] start processing\n",
      "03:25:36 - cmdstanpy - INFO - Chain [1] done processing\n",
      "03:25:36 - cmdstanpy - INFO - Chain [1] start processing\n",
      "03:25:36 - cmdstanpy - INFO - Chain [1] done processing\n",
      "03:25:36 - cmdstanpy - INFO - Chain [1] start processing\n",
      "03:25:36 - cmdstanpy - INFO - Chain [1] done processing\n",
      "03:25:37 - cmdstanpy - INFO - Chain [1] start processing\n",
      "03:25:37 - cmdstanpy - INFO - Chain [1] done processing\n",
      "03:25:37 - cmdstanpy - INFO - Chain [1] start processing\n",
      "03:25:37 - cmdstanpy - INFO - Chain [1] done processing\n",
      "03:25:37 - cmdstanpy - INFO - Chain [1] start processing\n",
      "03:25:38 - cmdstanpy - INFO - Chain [1] done processing\n",
      "03:25:38 - cmdstanpy - INFO - Chain [1] start processing\n",
      "03:25:38 - cmdstanpy - INFO - Chain [1] done processing\n",
      "03:25:38 - cmdstanpy - INFO - Chain [1] start processing\n",
      "03:25:38 - cmdstanpy - INFO - Chain [1] done processing\n",
      "03:25:39 - cmdstanpy - INFO - Chain [1] start processing\n",
      "03:25:39 - cmdstanpy - INFO - Chain [1] done processing\n",
      "03:25:39 - cmdstanpy - INFO - Chain [1] start processing\n",
      "03:25:39 - cmdstanpy - INFO - Chain [1] done processing\n",
      "03:25:39 - cmdstanpy - INFO - Chain [1] start processing\n",
      "03:25:40 - cmdstanpy - INFO - Chain [1] done processing\n",
      "03:25:40 - cmdstanpy - INFO - Chain [1] start processing\n",
      "03:25:40 - cmdstanpy - INFO - Chain [1] done processing\n",
      "03:25:40 - cmdstanpy - INFO - Chain [1] start processing\n",
      "03:25:40 - cmdstanpy - INFO - Chain [1] done processing\n",
      "03:25:41 - cmdstanpy - INFO - Chain [1] start processing\n",
      "03:25:41 - cmdstanpy - INFO - Chain [1] done processing\n",
      "03:25:41 - cmdstanpy - INFO - Chain [1] start processing\n",
      "03:25:41 - cmdstanpy - INFO - Chain [1] done processing\n",
      "03:25:41 - cmdstanpy - INFO - Chain [1] start processing\n",
      "03:25:42 - cmdstanpy - INFO - Chain [1] done processing\n",
      "03:25:42 - cmdstanpy - INFO - Chain [1] start processing\n",
      "03:25:42 - cmdstanpy - INFO - Chain [1] done processing\n",
      "03:25:42 - cmdstanpy - INFO - Chain [1] start processing\n",
      "03:25:42 - cmdstanpy - INFO - Chain [1] done processing\n",
      "03:25:43 - cmdstanpy - INFO - Chain [1] start processing\n",
      "03:25:43 - cmdstanpy - INFO - Chain [1] done processing\n",
      "03:25:43 - cmdstanpy - INFO - Chain [1] start processing\n",
      "03:25:43 - cmdstanpy - INFO - Chain [1] done processing\n",
      "03:25:44 - cmdstanpy - INFO - Chain [1] start processing\n",
      "03:25:44 - cmdstanpy - INFO - Chain [1] done processing\n",
      "03:25:44 - cmdstanpy - INFO - Chain [1] start processing\n",
      "03:25:44 - cmdstanpy - INFO - Chain [1] done processing\n",
      "03:25:45 - cmdstanpy - INFO - Chain [1] start processing\n",
      "03:25:45 - cmdstanpy - INFO - Chain [1] done processing\n",
      "03:25:45 - cmdstanpy - INFO - Chain [1] start processing\n",
      "03:25:45 - cmdstanpy - INFO - Chain [1] done processing\n",
      "03:25:46 - cmdstanpy - INFO - Chain [1] start processing\n",
      "03:25:46 - cmdstanpy - INFO - Chain [1] done processing\n",
      "03:25:46 - cmdstanpy - INFO - Chain [1] start processing\n",
      "03:25:46 - cmdstanpy - INFO - Chain [1] done processing\n",
      "03:25:46 - cmdstanpy - INFO - Chain [1] start processing\n"
     ]
    },
    {
     "name": "stderr",
     "output_type": "stream",
     "text": [
      "03:25:47 - cmdstanpy - INFO - Chain [1] done processing\n",
      "03:25:47 - cmdstanpy - INFO - Chain [1] start processing\n",
      "03:25:47 - cmdstanpy - INFO - Chain [1] done processing\n",
      "03:25:47 - cmdstanpy - INFO - Chain [1] start processing\n",
      "03:25:47 - cmdstanpy - INFO - Chain [1] done processing\n",
      "03:25:48 - cmdstanpy - INFO - Chain [1] start processing\n",
      "03:25:48 - cmdstanpy - INFO - Chain [1] done processing\n",
      "03:25:48 - cmdstanpy - INFO - Chain [1] start processing\n",
      "03:25:48 - cmdstanpy - INFO - Chain [1] done processing\n",
      "03:25:48 - cmdstanpy - INFO - Chain [1] start processing\n",
      "03:25:49 - cmdstanpy - INFO - Chain [1] done processing\n",
      "03:25:49 - cmdstanpy - INFO - Chain [1] start processing\n",
      "03:25:49 - cmdstanpy - INFO - Chain [1] done processing\n",
      "03:25:49 - cmdstanpy - INFO - Chain [1] start processing\n",
      "03:25:49 - cmdstanpy - INFO - Chain [1] done processing\n",
      "03:25:50 - cmdstanpy - INFO - Chain [1] start processing\n",
      "03:25:50 - cmdstanpy - INFO - Chain [1] done processing\n",
      "03:25:50 - cmdstanpy - INFO - Chain [1] start processing\n",
      "03:25:50 - cmdstanpy - INFO - Chain [1] done processing\n",
      "03:25:50 - cmdstanpy - INFO - Chain [1] start processing\n",
      "03:25:51 - cmdstanpy - INFO - Chain [1] done processing\n",
      "03:25:51 - cmdstanpy - INFO - Chain [1] start processing\n",
      "03:25:51 - cmdstanpy - INFO - Chain [1] done processing\n",
      "03:25:51 - cmdstanpy - INFO - Chain [1] start processing\n",
      "03:25:51 - cmdstanpy - INFO - Chain [1] done processing\n",
      "03:25:52 - cmdstanpy - INFO - Chain [1] start processing\n",
      "03:25:52 - cmdstanpy - INFO - Chain [1] done processing\n",
      "03:25:52 - cmdstanpy - INFO - Chain [1] start processing\n",
      "03:25:52 - cmdstanpy - INFO - Chain [1] done processing\n",
      "03:25:52 - cmdstanpy - INFO - Chain [1] start processing\n",
      "03:25:53 - cmdstanpy - INFO - Chain [1] done processing\n",
      "03:25:53 - cmdstanpy - INFO - Chain [1] start processing\n",
      "03:25:53 - cmdstanpy - INFO - Chain [1] done processing\n",
      "03:25:53 - cmdstanpy - INFO - Chain [1] start processing\n",
      "03:25:54 - cmdstanpy - INFO - Chain [1] done processing\n",
      "03:25:54 - cmdstanpy - INFO - Chain [1] start processing\n",
      "03:25:54 - cmdstanpy - INFO - Chain [1] done processing\n",
      "03:25:54 - cmdstanpy - INFO - Chain [1] start processing\n",
      "03:25:54 - cmdstanpy - INFO - Chain [1] done processing\n",
      "03:25:55 - cmdstanpy - INFO - Chain [1] start processing\n",
      "03:25:55 - cmdstanpy - INFO - Chain [1] done processing\n",
      "03:25:55 - cmdstanpy - INFO - Chain [1] start processing\n",
      "03:25:55 - cmdstanpy - INFO - Chain [1] done processing\n",
      "03:25:56 - cmdstanpy - INFO - Chain [1] start processing\n",
      "03:25:56 - cmdstanpy - INFO - Chain [1] done processing\n",
      "03:25:56 - cmdstanpy - INFO - Chain [1] start processing\n",
      "03:25:56 - cmdstanpy - INFO - Chain [1] done processing\n",
      "03:25:56 - cmdstanpy - INFO - Chain [1] start processing\n",
      "03:25:57 - cmdstanpy - INFO - Chain [1] done processing\n",
      "03:25:57 - cmdstanpy - INFO - Chain [1] start processing\n",
      "03:25:57 - cmdstanpy - INFO - Chain [1] done processing\n",
      "03:25:57 - cmdstanpy - INFO - Chain [1] start processing\n",
      "03:25:58 - cmdstanpy - INFO - Chain [1] done processing\n",
      "03:25:58 - cmdstanpy - INFO - Chain [1] start processing\n",
      "03:25:58 - cmdstanpy - INFO - Chain [1] done processing\n",
      "03:25:58 - cmdstanpy - INFO - Chain [1] start processing\n",
      "03:25:59 - cmdstanpy - INFO - Chain [1] done processing\n",
      "03:25:59 - cmdstanpy - INFO - Chain [1] start processing\n",
      "03:25:59 - cmdstanpy - INFO - Chain [1] done processing\n",
      "03:25:59 - cmdstanpy - INFO - Chain [1] start processing\n",
      "03:25:59 - cmdstanpy - INFO - Chain [1] done processing\n",
      "03:26:00 - cmdstanpy - INFO - Chain [1] start processing\n",
      "03:26:00 - cmdstanpy - INFO - Chain [1] done processing\n",
      "03:26:00 - cmdstanpy - INFO - Chain [1] start processing\n",
      "03:26:00 - cmdstanpy - INFO - Chain [1] done processing\n",
      "03:26:01 - cmdstanpy - INFO - Chain [1] start processing\n",
      "03:26:01 - cmdstanpy - INFO - Chain [1] done processing\n",
      "03:26:01 - cmdstanpy - INFO - Chain [1] start processing\n",
      "03:26:01 - cmdstanpy - INFO - Chain [1] done processing\n",
      "03:26:02 - cmdstanpy - INFO - Chain [1] start processing\n",
      "03:26:02 - cmdstanpy - INFO - Chain [1] done processing\n",
      "03:26:02 - cmdstanpy - INFO - Chain [1] start processing\n",
      "03:26:02 - cmdstanpy - INFO - Chain [1] done processing\n",
      "03:26:02 - cmdstanpy - INFO - Chain [1] start processing\n",
      "03:26:03 - cmdstanpy - INFO - Chain [1] done processing\n",
      "03:26:03 - cmdstanpy - INFO - Chain [1] start processing\n",
      "03:26:03 - cmdstanpy - INFO - Chain [1] done processing\n",
      "03:26:03 - cmdstanpy - INFO - Chain [1] start processing\n",
      "03:26:04 - cmdstanpy - INFO - Chain [1] done processing\n",
      "03:26:04 - cmdstanpy - INFO - Chain [1] start processing\n",
      "03:26:04 - cmdstanpy - INFO - Chain [1] done processing\n",
      "03:26:04 - cmdstanpy - INFO - Chain [1] start processing\n",
      "03:26:04 - cmdstanpy - INFO - Chain [1] done processing\n",
      "03:26:05 - cmdstanpy - INFO - Chain [1] start processing\n",
      "03:26:05 - cmdstanpy - INFO - Chain [1] done processing\n",
      "03:26:05 - cmdstanpy - INFO - Chain [1] start processing\n",
      "03:26:05 - cmdstanpy - INFO - Chain [1] done processing\n",
      "03:26:05 - cmdstanpy - INFO - Chain [1] start processing\n",
      "03:26:06 - cmdstanpy - INFO - Chain [1] done processing\n",
      "03:26:06 - cmdstanpy - INFO - Chain [1] start processing\n",
      "03:26:06 - cmdstanpy - INFO - Chain [1] done processing\n",
      "03:26:06 - cmdstanpy - INFO - Chain [1] start processing\n",
      "03:26:07 - cmdstanpy - INFO - Chain [1] done processing\n",
      "03:26:07 - cmdstanpy - INFO - Chain [1] start processing\n",
      "03:26:07 - cmdstanpy - INFO - Chain [1] done processing\n",
      "03:26:07 - cmdstanpy - INFO - Chain [1] start processing\n",
      "03:26:07 - cmdstanpy - INFO - Chain [1] done processing\n",
      "03:26:08 - cmdstanpy - INFO - Chain [1] start processing\n",
      "03:26:08 - cmdstanpy - INFO - Chain [1] done processing\n",
      "03:26:08 - cmdstanpy - INFO - Chain [1] start processing\n",
      "03:26:08 - cmdstanpy - INFO - Chain [1] done processing\n",
      "03:26:09 - cmdstanpy - INFO - Chain [1] start processing\n",
      "03:26:09 - cmdstanpy - INFO - Chain [1] done processing\n",
      "03:26:09 - cmdstanpy - INFO - Chain [1] start processing\n",
      "03:26:09 - cmdstanpy - INFO - Chain [1] done processing\n",
      "03:26:10 - cmdstanpy - INFO - Chain [1] start processing\n",
      "03:26:10 - cmdstanpy - INFO - Chain [1] done processing\n",
      "03:26:10 - cmdstanpy - INFO - Chain [1] start processing\n",
      "03:26:10 - cmdstanpy - INFO - Chain [1] done processing\n",
      "03:26:11 - cmdstanpy - INFO - Chain [1] start processing\n",
      "03:26:11 - cmdstanpy - INFO - Chain [1] done processing\n",
      "03:26:11 - cmdstanpy - INFO - Chain [1] start processing\n",
      "03:26:11 - cmdstanpy - INFO - Chain [1] done processing\n",
      "03:26:11 - cmdstanpy - INFO - Chain [1] start processing\n",
      "03:26:12 - cmdstanpy - INFO - Chain [1] done processing\n",
      "03:26:12 - cmdstanpy - INFO - Chain [1] start processing\n",
      "03:26:12 - cmdstanpy - INFO - Chain [1] done processing\n",
      "03:26:12 - cmdstanpy - INFO - Chain [1] start processing\n",
      "03:26:13 - cmdstanpy - INFO - Chain [1] done processing\n",
      "03:26:13 - cmdstanpy - INFO - Chain [1] start processing\n",
      "03:26:13 - cmdstanpy - INFO - Chain [1] done processing\n",
      "03:26:13 - cmdstanpy - INFO - Chain [1] start processing\n",
      "03:26:14 - cmdstanpy - INFO - Chain [1] done processing\n",
      "03:26:14 - cmdstanpy - INFO - Chain [1] start processing\n",
      "03:26:14 - cmdstanpy - INFO - Chain [1] done processing\n"
     ]
    }
   ],
   "source": [
    "from prophet.diagnostics import cross_validation\n",
    "df_cv = cross_validation(model, horizon = '10 days', period ='5days', initial='45days')"
   ]
  },
  {
   "cell_type": "markdown",
   "metadata": {},
   "source": [
    "###### To check the 'Mean Square Error', 'Root Mean Square Error', 'Mean Absolute Error', 'Mean Absolute Percentage Error'\n",
    "\n",
    "- The main component to check in the performance table is MAPE i.e Mean Absolute Percentage error, if\n",
    "- MAPE < 10%       forecasting is considered to be highly accurate\n",
    "- MAPE - 10%-20%   forecasting is considered to have a good accuracy\n",
    "- MAPE - 20%-50%   forecasting can be said a reasonable forecasting"
   ]
  },
  {
   "cell_type": "code",
   "execution_count": 24,
   "metadata": {
    "executionInfo": {
     "elapsed": 5,
     "status": "ok",
     "timestamp": 1696544080965,
     "user": {
      "displayName": "Swarnim Mishra",
      "userId": "17458873270615504722"
     },
     "user_tz": -330
    },
    "id": "_Y2kRf3w521U"
   },
   "outputs": [],
   "source": [
    "from prophet.diagnostics import performance_metrics"
   ]
  },
  {
   "cell_type": "code",
   "execution_count": 25,
   "metadata": {
    "executionInfo": {
     "elapsed": 409,
     "status": "ok",
     "timestamp": 1696544388063,
     "user": {
      "displayName": "Swarnim Mishra",
      "userId": "17458873270615504722"
     },
     "user_tz": -330
    },
    "id": "JJUDqvw76Bf0"
   },
   "outputs": [],
   "source": [
    "df_performance = performance_metrics(df_cv)"
   ]
  },
  {
   "cell_type": "code",
   "execution_count": 26,
   "metadata": {
    "colab": {
     "base_uri": "https://localhost:8080/",
     "height": 363
    },
    "executionInfo": {
     "elapsed": 6,
     "status": "ok",
     "timestamp": 1696544388476,
     "user": {
      "displayName": "Swarnim Mishra",
      "userId": "17458873270615504722"
     },
     "user_tz": -330
    },
    "id": "aRp-oJA_6J64",
    "outputId": "fca765b2-ab55-4f03-e3fc-cc3b4649636b"
   },
   "outputs": [
    {
     "data": {
      "text/html": [
       "<div>\n",
       "<style scoped>\n",
       "    .dataframe tbody tr th:only-of-type {\n",
       "        vertical-align: middle;\n",
       "    }\n",
       "\n",
       "    .dataframe tbody tr th {\n",
       "        vertical-align: top;\n",
       "    }\n",
       "\n",
       "    .dataframe thead th {\n",
       "        text-align: right;\n",
       "    }\n",
       "</style>\n",
       "<table border=\"1\" class=\"dataframe\">\n",
       "  <thead>\n",
       "    <tr style=\"text-align: right;\">\n",
       "      <th></th>\n",
       "      <th>horizon</th>\n",
       "      <th>mse</th>\n",
       "      <th>rmse</th>\n",
       "      <th>mae</th>\n",
       "      <th>mape</th>\n",
       "      <th>mdape</th>\n",
       "      <th>smape</th>\n",
       "      <th>coverage</th>\n",
       "    </tr>\n",
       "  </thead>\n",
       "  <tbody>\n",
       "    <tr>\n",
       "      <th>0</th>\n",
       "      <td>1 days</td>\n",
       "      <td>86.201255</td>\n",
       "      <td>9.284463</td>\n",
       "      <td>6.930882</td>\n",
       "      <td>0.055296</td>\n",
       "      <td>0.043083</td>\n",
       "      <td>0.055890</td>\n",
       "      <td>0.597826</td>\n",
       "    </tr>\n",
       "    <tr>\n",
       "      <th>1</th>\n",
       "      <td>2 days</td>\n",
       "      <td>113.529707</td>\n",
       "      <td>10.655032</td>\n",
       "      <td>7.696434</td>\n",
       "      <td>0.063435</td>\n",
       "      <td>0.045765</td>\n",
       "      <td>0.062666</td>\n",
       "      <td>0.617021</td>\n",
       "    </tr>\n",
       "    <tr>\n",
       "      <th>2</th>\n",
       "      <td>3 days</td>\n",
       "      <td>112.621998</td>\n",
       "      <td>10.612351</td>\n",
       "      <td>7.733185</td>\n",
       "      <td>0.062362</td>\n",
       "      <td>0.048686</td>\n",
       "      <td>0.062071</td>\n",
       "      <td>0.604533</td>\n",
       "    </tr>\n",
       "    <tr>\n",
       "      <th>3</th>\n",
       "      <td>4 days</td>\n",
       "      <td>95.910763</td>\n",
       "      <td>9.793404</td>\n",
       "      <td>7.521380</td>\n",
       "      <td>0.059856</td>\n",
       "      <td>0.047127</td>\n",
       "      <td>0.060300</td>\n",
       "      <td>0.610965</td>\n",
       "    </tr>\n",
       "    <tr>\n",
       "      <th>4</th>\n",
       "      <td>5 days</td>\n",
       "      <td>111.370819</td>\n",
       "      <td>10.553237</td>\n",
       "      <td>8.040715</td>\n",
       "      <td>0.063474</td>\n",
       "      <td>0.047596</td>\n",
       "      <td>0.064811</td>\n",
       "      <td>0.548387</td>\n",
       "    </tr>\n",
       "    <tr>\n",
       "      <th>5</th>\n",
       "      <td>6 days</td>\n",
       "      <td>119.817905</td>\n",
       "      <td>10.946137</td>\n",
       "      <td>8.294104</td>\n",
       "      <td>0.066138</td>\n",
       "      <td>0.053256</td>\n",
       "      <td>0.067005</td>\n",
       "      <td>0.549439</td>\n",
       "    </tr>\n",
       "    <tr>\n",
       "      <th>6</th>\n",
       "      <td>7 days</td>\n",
       "      <td>150.943860</td>\n",
       "      <td>12.285921</td>\n",
       "      <td>9.041039</td>\n",
       "      <td>0.074401</td>\n",
       "      <td>0.057639</td>\n",
       "      <td>0.073746</td>\n",
       "      <td>0.516129</td>\n",
       "    </tr>\n",
       "    <tr>\n",
       "      <th>7</th>\n",
       "      <td>8 days</td>\n",
       "      <td>165.137236</td>\n",
       "      <td>12.850573</td>\n",
       "      <td>9.616488</td>\n",
       "      <td>0.076925</td>\n",
       "      <td>0.057112</td>\n",
       "      <td>0.076718</td>\n",
       "      <td>0.510870</td>\n",
       "    </tr>\n",
       "    <tr>\n",
       "      <th>8</th>\n",
       "      <td>9 days</td>\n",
       "      <td>145.634634</td>\n",
       "      <td>12.067918</td>\n",
       "      <td>9.353373</td>\n",
       "      <td>0.074093</td>\n",
       "      <td>0.060842</td>\n",
       "      <td>0.074850</td>\n",
       "      <td>0.527292</td>\n",
       "    </tr>\n",
       "    <tr>\n",
       "      <th>9</th>\n",
       "      <td>10 days</td>\n",
       "      <td>163.144795</td>\n",
       "      <td>12.772815</td>\n",
       "      <td>9.782832</td>\n",
       "      <td>0.077356</td>\n",
       "      <td>0.059126</td>\n",
       "      <td>0.079138</td>\n",
       "      <td>0.516129</td>\n",
       "    </tr>\n",
       "  </tbody>\n",
       "</table>\n",
       "</div>"
      ],
      "text/plain": [
       "  horizon         mse       rmse       mae      mape     mdape     smape  \\\n",
       "0  1 days   86.201255   9.284463  6.930882  0.055296  0.043083  0.055890   \n",
       "1  2 days  113.529707  10.655032  7.696434  0.063435  0.045765  0.062666   \n",
       "2  3 days  112.621998  10.612351  7.733185  0.062362  0.048686  0.062071   \n",
       "3  4 days   95.910763   9.793404  7.521380  0.059856  0.047127  0.060300   \n",
       "4  5 days  111.370819  10.553237  8.040715  0.063474  0.047596  0.064811   \n",
       "5  6 days  119.817905  10.946137  8.294104  0.066138  0.053256  0.067005   \n",
       "6  7 days  150.943860  12.285921  9.041039  0.074401  0.057639  0.073746   \n",
       "7  8 days  165.137236  12.850573  9.616488  0.076925  0.057112  0.076718   \n",
       "8  9 days  145.634634  12.067918  9.353373  0.074093  0.060842  0.074850   \n",
       "9 10 days  163.144795  12.772815  9.782832  0.077356  0.059126  0.079138   \n",
       "\n",
       "   coverage  \n",
       "0  0.597826  \n",
       "1  0.617021  \n",
       "2  0.604533  \n",
       "3  0.610965  \n",
       "4  0.548387  \n",
       "5  0.549439  \n",
       "6  0.516129  \n",
       "7  0.510870  \n",
       "8  0.527292  \n",
       "9  0.516129  "
      ]
     },
     "execution_count": 26,
     "metadata": {},
     "output_type": "execute_result"
    }
   ],
   "source": [
    "df_performance"
   ]
  },
  {
   "cell_type": "markdown",
   "metadata": {},
   "source": [
    "### ploting the metrics of cross-validations"
   ]
  },
  {
   "cell_type": "code",
   "execution_count": 32,
   "metadata": {},
   "outputs": [
    {
     "data": {
      "image/png": "[encoded data removed]",
      "text/plain": [
       "<Figure size 1000x600 with 1 Axes>"
      ]
     },
     "metadata": {},
     "output_type": "display_data"
    }
   ],
   "source": [
    "# MAPE expresses the average percentage difference between predicted and actual values.\n",
    "# MAPE is useful for understanding prediction accuracy in percentage terms.\n",
    "plot_cross_validation_metric(df_cv , metric='mape')\n",
    "plt.show()"
   ]
  },
  {
   "cell_type": "code",
   "execution_count": 33,
   "metadata": {
    "colab": {
     "base_uri": "https://localhost:8080/",
     "height": 1000
    },
    "executionInfo": {
     "elapsed": 1682,
     "status": "ok",
     "timestamp": 1696544438125,
     "user": {
      "displayName": "Swarnim Mishra",
      "userId": "17458873270615504722"
     },
     "user_tz": -330
    },
    "id": "QGzik0Xb6MYs",
    "outputId": "f9e4a743-6fe1-4c90-85fd-381f797fc39d"
   },
   "outputs": [
    {
     "data": {
      "image/png": "[encoded data removed]",
      "text/plain": [
       "<Figure size 1000x600 with 1 Axes>"
      ]
     },
     "metadata": {},
     "output_type": "display_data"
    }
   ],
   "source": [
    "# MSE represents the average squared difference between predicted and actual values.\n",
    "from prophet.plot import plot_cross_validation_metric\n",
    "plot_cross_validation_metric(df_cv , metric='mse')\n",
    "plt.show()"
   ]
  },
  {
   "cell_type": "code",
   "execution_count": 30,
   "metadata": {
    "colab": {
     "base_uri": "https://localhost:8080/",
     "height": 542
    },
    "executionInfo": {
     "elapsed": 6,
     "status": "ok",
     "timestamp": 1696544684710,
     "user": {
      "displayName": "Swarnim Mishra",
      "userId": "17458873270615504722"
     },
     "user_tz": -330
    },
    "id": "oFBzIXX_6qcl",
    "outputId": "69cf8dc3-b429-4eed-bbcd-7fa12d96c6d6"
   },
   "outputs": [
    {
     "data": {
      "image/png": "[encoded data removed]",
      "text/plain": [
       "<Figure size 1000x600 with 1 Axes>"
      ]
     },
     "metadata": {},
     "output_type": "display_data"
    }
   ],
   "source": [
    "# RMSE is the square root of MSE and has the same unit as the predicted values.\n",
    "plot_cross_validation_metric(df_cv , metric = 'rmse')\n",
    "plt.show()"
   ]
  }
 ],
 "metadata": {
  "accelerator": "GPU",
  "colab": {
   "authorship_tag": "ABX9TyMvHHYAchDYDbeZyDe0Im7w",
   "gpuType": "T4",
   "mount_file_id": "1CUpV3JlY8XhTabKDCLqutmgeCY8Ar-JI",
   "provenance": []
  },
  "kernelspec": {
   "display_name": "Python 3 (ipykernel)",
   "language": "python",
   "name": "python3"
  },
  "language_info": {
   "codemirror_mode": {
    "name": "ipython",
    "version": 3
   },
   "file_extension": ".py",
   "mimetype": "text/x-python",
   "name": "python",
   "nbconvert_exporter": "python",
   "pygments_lexer": "ipython3",
   "version": "3.9.13"
  },
  "widgets": {
   "application/vnd.jupyter.widget-state+json": {
    "061ac603f3a047c58a771c1a4119f6ec": {
     "model_module": "@jupyter-widgets/controls",
     "model_module_version": "1.5.0",
     "model_name": "FloatProgressModel",
     "state": {
      "_dom_classes": [],
      "_model_module": "@jupyter-widgets/controls",
      "_model_module_version": "1.5.0",
      "_model_name": "FloatProgressModel",
      "_view_count": null,
      "_view_module": "@jupyter-widgets/controls",
      "_view_module_version": "1.5.0",
      "_view_name": "ProgressView",
      "bar_style": "success",
      "description": "",
      "description_tooltip": null,
      "layout": "IPY_MODEL_b374dd16237f45728ab1792317a845bc",
      "max": 135,
      "min": 0,
      "orientation": "horizontal",
      "style": "IPY_MODEL_8b7f2e78be064c43a208b48caad38c8e",
      "value": 135
     }
    },
    "540ede7f66734292af2c6c7c0d3712ad": {
     "model_module": "@jupyter-widgets/controls",
     "model_module_version": "1.5.0",
     "model_name": "DescriptionStyleModel",
     "state": {
      "_model_module": "@jupyter-widgets/controls",
      "_model_module_version": "1.5.0",
      "_model_name": "DescriptionStyleModel",
      "_view_count": null,
      "_view_module": "@jupyter-widgets/base",
      "_view_module_version": "1.2.0",
      "_view_name": "StyleView",
      "description_width": ""
     }
    },
    "8b7f2e78be064c43a208b48caad38c8e": {
     "model_module": "@jupyter-widgets/controls",
     "model_module_version": "1.5.0",
     "model_name": "ProgressStyleModel",
     "state": {
      "_model_module": "@jupyter-widgets/controls",
      "_model_module_version": "1.5.0",
      "_model_name": "ProgressStyleModel",
      "_view_count": null,
      "_view_module": "@jupyter-widgets/base",
      "_view_module_version": "1.2.0",
      "_view_name": "StyleView",
      "bar_color": null,
      "description_width": ""
     }
    },
    "9439b9df140647db87f7787991f133a1": {
     "model_module": "@jupyter-widgets/base",
     "model_module_version": "1.2.0",
     "model_name": "LayoutModel",
     "state": {
      "_model_module": "@jupyter-widgets/base",
      "_model_module_version": "1.2.0",
      "_model_name": "LayoutModel",
      "_view_count": null,
      "_view_module": "@jupyter-widgets/base",
      "_view_module_version": "1.2.0",
      "_view_name": "LayoutView",
      "align_content": null,
      "align_items": null,
      "align_self": null,
      "border": null,
      "bottom": null,
      "display": null,
      "flex": null,
      "flex_flow": null,
      "grid_area": null,
      "grid_auto_columns": null,
      "grid_auto_flow": null,
      "grid_auto_rows": null,
      "grid_column": null,
      "grid_gap": null,
      "grid_row": null,
      "grid_template_areas": null,
      "grid_template_columns": null,
      "grid_template_rows": null,
      "height": null,
      "justify_content": null,
      "justify_items": null,
      "left": null,
      "margin": null,
      "max_height": null,
      "max_width": null,
      "min_height": null,
      "min_width": null,
      "object_fit": null,
      "object_position": null,
      "order": null,
      "overflow": null,
      "overflow_x": null,
      "overflow_y": null,
      "padding": null,
      "right": null,
      "top": null,
      "visibility": null,
      "width": null
     }
    },
    "97ef0fe84de748d196e95ce8969026d0": {
     "model_module": "@jupyter-widgets/controls",
     "model_module_version": "1.5.0",
     "model_name": "HTMLModel",
     "state": {
      "_dom_classes": [],
      "_model_module": "@jupyter-widgets/controls",
      "_model_module_version": "1.5.0",
      "_model_name": "HTMLModel",
      "_view_count": null,
      "_view_module": "@jupyter-widgets/controls",
      "_view_module_version": "1.5.0",
      "_view_name": "HTMLView",
      "description": "",
      "description_tooltip": null,
      "layout": "IPY_MODEL_9439b9df140647db87f7787991f133a1",
      "placeholder": "​",
      "style": "IPY_MODEL_c931f2d802144497b638442fddeecf79",
      "value": " 135/135 [00:25&lt;00:00,  5.06it/s]"
     }
    },
    "a25bc594cdf443918db3ef43967e2e00": {
     "model_module": "@jupyter-widgets/controls",
     "model_module_version": "1.5.0",
     "model_name": "HTMLModel",
     "state": {
      "_dom_classes": [],
      "_model_module": "@jupyter-widgets/controls",
      "_model_module_version": "1.5.0",
      "_model_name": "HTMLModel",
      "_view_count": null,
      "_view_module": "@jupyter-widgets/controls",
      "_view_module_version": "1.5.0",
      "_view_name": "HTMLView",
      "description": "",
      "description_tooltip": null,
      "layout": "IPY_MODEL_db22de35a3744154b929694fc5e4b117",
      "placeholder": "​",
      "style": "IPY_MODEL_540ede7f66734292af2c6c7c0d3712ad",
      "value": "100%"
     }
    },
    "b1d389feb6064a4392ffa8df435efb28": {
     "model_module": "@jupyter-widgets/base",
     "model_module_version": "1.2.0",
     "model_name": "LayoutModel",
     "state": {
      "_model_module": "@jupyter-widgets/base",
      "_model_module_version": "1.2.0",
      "_model_name": "LayoutModel",
      "_view_count": null,
      "_view_module": "@jupyter-widgets/base",
      "_view_module_version": "1.2.0",
      "_view_name": "LayoutView",
      "align_content": null,
      "align_items": null,
      "align_self": null,
      "border": null,
      "bottom": null,
      "display": null,
      "flex": null,
      "flex_flow": null,
      "grid_area": null,
      "grid_auto_columns": null,
      "grid_auto_flow": null,
      "grid_auto_rows": null,
      "grid_column": null,
      "grid_gap": null,
      "grid_row": null,
      "grid_template_areas": null,
      "grid_template_columns": null,
      "grid_template_rows": null,
      "height": null,
      "justify_content": null,
      "justify_items": null,
      "left": null,
      "margin": null,
      "max_height": null,
      "max_width": null,
      "min_height": null,
      "min_width": null,
      "object_fit": null,
      "object_position": null,
      "order": null,
      "overflow": null,
      "overflow_x": null,
      "overflow_y": null,
      "padding": null,
      "right": null,
      "top": null,
      "visibility": null,
      "width": null
     }
    },
    "b374dd16237f45728ab1792317a845bc": {
     "model_module": "@jupyter-widgets/base",
     "model_module_version": "1.2.0",
     "model_name": "LayoutModel",
     "state": {
      "_model_module": "@jupyter-widgets/base",
      "_model_module_version": "1.2.0",
      "_model_name": "LayoutModel",
      "_view_count": null,
      "_view_module": "@jupyter-widgets/base",
      "_view_module_version": "1.2.0",
      "_view_name": "LayoutView",
      "align_content": null,
      "align_items": null,
      "align_self": null,
      "border": null,
      "bottom": null,
      "display": null,
      "flex": null,
      "flex_flow": null,
      "grid_area": null,
      "grid_auto_columns": null,
      "grid_auto_flow": null,
      "grid_auto_rows": null,
      "grid_column": null,
      "grid_gap": null,
      "grid_row": null,
      "grid_template_areas": null,
      "grid_template_columns": null,
      "grid_template_rows": null,
      "height": null,
      "justify_content": null,
      "justify_items": null,
      "left": null,
      "margin": null,
      "max_height": null,
      "max_width": null,
      "min_height": null,
      "min_width": null,
      "object_fit": null,
      "object_position": null,
      "order": null,
      "overflow": null,
      "overflow_x": null,
      "overflow_y": null,
      "padding": null,
      "right": null,
      "top": null,
      "visibility": null,
      "width": null
     }
    },
    "c931f2d802144497b638442fddeecf79": {
     "model_module": "@jupyter-widgets/controls",
     "model_module_version": "1.5.0",
     "model_name": "DescriptionStyleModel",
     "state": {
      "_model_module": "@jupyter-widgets/controls",
      "_model_module_version": "1.5.0",
      "_model_name": "DescriptionStyleModel",
      "_view_count": null,
      "_view_module": "@jupyter-widgets/base",
      "_view_module_version": "1.2.0",
      "_view_name": "StyleView",
      "description_width": ""
     }
    },
    "d7b23ac26dd9423d926ac316291fb3fb": {
     "model_module": "@jupyter-widgets/controls",
     "model_module_version": "1.5.0",
     "model_name": "HBoxModel",
     "state": {
      "_dom_classes": [],
      "_model_module": "@jupyter-widgets/controls",
      "_model_module_version": "1.5.0",
      "_model_name": "HBoxModel",
      "_view_count": null,
      "_view_module": "@jupyter-widgets/controls",
      "_view_module_version": "1.5.0",
      "_view_name": "HBoxView",
      "box_style": "",
      "children": [
       "IPY_MODEL_a25bc594cdf443918db3ef43967e2e00",
       "IPY_MODEL_061ac603f3a047c58a771c1a4119f6ec",
       "IPY_MODEL_97ef0fe84de748d196e95ce8969026d0"
      ],
      "layout": "IPY_MODEL_b1d389feb6064a4392ffa8df435efb28"
     }
    },
    "db22de35a3744154b929694fc5e4b117": {
     "model_module": "@jupyter-widgets/base",
     "model_module_version": "1.2.0",
     "model_name": "LayoutModel",
     "state": {
      "_model_module": "@jupyter-widgets/base",
      "_model_module_version": "1.2.0",
      "_model_name": "LayoutModel",
      "_view_count": null,
      "_view_module": "@jupyter-widgets/base",
      "_view_module_version": "1.2.0",
      "_view_name": "LayoutView",
      "align_content": null,
      "align_items": null,
      "align_self": null,
      "border": null,
      "bottom": null,
      "display": null,
      "flex": null,
      "flex_flow": null,
      "grid_area": null,
      "grid_auto_columns": null,
      "grid_auto_flow": null,
      "grid_auto_rows": null,
      "grid_column": null,
      "grid_gap": null,
      "grid_row": null,
      "grid_template_areas": null,
      "grid_template_columns": null,
      "grid_template_rows": null,
      "height": null,
      "justify_content": null,
      "justify_items": null,
      "left": null,
      "margin": null,
      "max_height": null,
      "max_width": null,
      "min_height": null,
      "min_width": null,
      "object_fit": null,
      "object_position": null,
      "order": null,
      "overflow": null,
      "overflow_x": null,
      "overflow_y": null,
      "padding": null,
      "right": null,
      "top": null,
      "visibility": null,
      "width": null
     }
    }
   }
  }
 },
 "nbformat": 4,
 "nbformat_minor": 1
}
